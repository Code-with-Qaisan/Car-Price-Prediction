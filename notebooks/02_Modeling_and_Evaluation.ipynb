{
 "cells": [
  {
   "cell_type": "markdown",
   "id": "5863221e-79f3-4fa5-94c2-4565b97f6ddb",
   "metadata": {},
   "source": [
    "# 02: Modeling and Evaluation\n",
    "\n",
    "This notebook covers feature engineering, model training (using 4 models), evaluation, and results visualization for the Car Price Prediction project."
   ]
  },
  {
   "cell_type": "code",
   "execution_count": 1,
   "id": "3ab71054-d3e6-4b6c-93f5-0d8200def0d8",
   "metadata": {},
   "outputs": [],
   "source": [
    "import pandas as pd\n",
    "import numpy as np\n",
    "from sklearn.model_selection import train_test_split\n",
    "from sklearn.preprocessing import StandardScaler\n",
    "from sklearn.metrics import mean_squared_error, mean_absolute_error, r2_score\n",
    "import matplotlib.pyplot as plt\n",
    "import seaborn as sns\n",
    "import warnings\n",
    "warnings.filterwarnings('ignore', category=RuntimeWarning)"
   ]
  },
  {
   "cell_type": "markdown",
   "id": "985a29bb-bcf7-43f2-b338-a7eef3d53387",
   "metadata": {},
   "source": [
    "## Load and Prepare the Dataset\n",
    "\n",
    "We'll load the  dataset and apply the same preprocessing steps from our EDA notebook to ensure consistency."
   ]
  },
  {
   "cell_type": "code",
   "execution_count": 2,
   "id": "2e4ef4e7-8442-40a6-9bfd-ce2056dfadd8",
   "metadata": {},
   "outputs": [],
   "source": [
    "df = pd.read_csv('../data/CarPrice_Assignment.csv')\n",
    "\n",
    "# Apply the same cleaning as in the EDA notebook\n",
    "replacements = {\n",
    "    'audi 100ls': 'audi 100 ls',\n",
    "    'vw dasher': 'volkswagen dasher',\n",
    "    'vw rabbit': 'volkswagen rabbit',\n",
    "    'vokswagen rabbit': 'volkswagen rabbit',\n",
    "    'vokswagen': 'volkswagen',\n",
    "    'porcshce panamera': 'porsche panamera',\n",
    "    'toyouta tercel': 'toyota tercel',\n",
    "    'isuzu D-Max ': 'isuzu D-Max',\n",
    "    'maxda rx3': 'mazda rx3',\n",
    "    'maxda glc deluxe': 'mazda glc deluxe',\n",
    "    'Nissan versa': 'nissan versa',\n",
    "}\n",
    "df['CarName'] = df['CarName'].replace(replacements)"
   ]
  },
  {
   "cell_type": "markdown",
   "id": "5f4e3041-465c-46fd-926d-73fc7c837e74",
   "metadata": {},
   "source": [
    "## Feature Engineering"
   ]
  },
  {
   "cell_type": "code",
   "execution_count": 3,
   "id": "13bed752-dbbd-4111-951c-7ea73bc7ee9d",
   "metadata": {},
   "outputs": [],
   "source": [
    "# Example: One-hot encoding categorical variables\n",
    "categorical_cols = df.select_dtypes(include='object').columns.tolist()\n",
    "categorical_cols.remove('CarName')  # Optionally drop or encode CarName\n",
    "df = pd.get_dummies(df, columns=categorical_cols, drop_first=True)"
   ]
  },
  {
   "cell_type": "markdown",
   "id": "a69b75e2-15a0-4d83-aaa3-e0ae140d7fed",
   "metadata": {},
   "source": [
    "## Data Splitting and Scaling\n",
    "\n",
    "We'll split our data into training (80%) and test (20%) sets, then scale our features using StandardScaler to ensure all features are on the same scale for our models."
   ]
  },
  {
   "cell_type": "code",
   "execution_count": 4,
   "id": "1fe74c80-5d99-47a0-9ec6-c7f2b2d7f714",
   "metadata": {},
   "outputs": [],
   "source": [
    "X = df.drop(['car_ID', 'CarName', 'price'], axis=1)\n",
    "y = df['price']\n",
    "\n",
    "X_train, X_test, y_train, y_test = train_test_split(X, y, test_size=0.2, random_state=42)\n",
    "\n",
    "scaler = StandardScaler()\n",
    "X_train_scaled = scaler.fit_transform(X_train)\n",
    "X_test_scaled = scaler.transform(X_test)"
   ]
  },
  {
   "cell_type": "markdown",
   "id": "deed41b2-58e3-4c96-80ff-0bcf4079ae94",
   "metadata": {},
   "source": [
    "## Model Training and Evaluation\n",
    "\n",
    "We'll train and compare 4 different models:\n",
    "1. **Linear Regression** - Baseline model\n",
    "2. **Random Forest** - Ensemble method, good for non-linear relationships\n",
    "3. **Decision Tree** - Interpretable model\n",
    "4. **XGBoost** - Advanced gradient boosting\n",
    "\n",
    "We'll evaluate using RMSE, MAE, and R² metrics."
   ]
  },
  {
   "cell_type": "code",
   "execution_count": 5,
   "id": "d618e23b-b1ee-4a69-8675-7494c1dd3b82",
   "metadata": {},
   "outputs": [
    {
     "data": {
      "text/html": [
       "<div>\n",
       "<style scoped>\n",
       "    .dataframe tbody tr th:only-of-type {\n",
       "        vertical-align: middle;\n",
       "    }\n",
       "\n",
       "    .dataframe tbody tr th {\n",
       "        vertical-align: top;\n",
       "    }\n",
       "\n",
       "    .dataframe thead th {\n",
       "        text-align: right;\n",
       "    }\n",
       "</style>\n",
       "<table border=\"1\" class=\"dataframe\">\n",
       "  <thead>\n",
       "    <tr style=\"text-align: right;\">\n",
       "      <th></th>\n",
       "      <th>RMSE</th>\n",
       "      <th>MAE</th>\n",
       "      <th>R2</th>\n",
       "    </tr>\n",
       "  </thead>\n",
       "  <tbody>\n",
       "    <tr>\n",
       "      <th>Linear Regression</th>\n",
       "      <td>2912.388793</td>\n",
       "      <td>2089.382729</td>\n",
       "      <td>0.892557</td>\n",
       "    </tr>\n",
       "    <tr>\n",
       "      <th>Random Forest</th>\n",
       "      <td>1820.431169</td>\n",
       "      <td>1259.757695</td>\n",
       "      <td>0.958021</td>\n",
       "    </tr>\n",
       "    <tr>\n",
       "      <th>Decision Tree</th>\n",
       "      <td>2881.019326</td>\n",
       "      <td>1886.321146</td>\n",
       "      <td>0.894859</td>\n",
       "    </tr>\n",
       "    <tr>\n",
       "      <th>XGBoost</th>\n",
       "      <td>2279.700638</td>\n",
       "      <td>1573.949671</td>\n",
       "      <td>0.934168</td>\n",
       "    </tr>\n",
       "  </tbody>\n",
       "</table>\n",
       "</div>"
      ],
      "text/plain": [
       "                          RMSE          MAE        R2\n",
       "Linear Regression  2912.388793  2089.382729  0.892557\n",
       "Random Forest      1820.431169  1259.757695  0.958021\n",
       "Decision Tree      2881.019326  1886.321146  0.894859\n",
       "XGBoost            2279.700638  1573.949671  0.934168"
      ]
     },
     "execution_count": 5,
     "metadata": {},
     "output_type": "execute_result"
    }
   ],
   "source": [
    "from sklearn.linear_model import LinearRegression\n",
    "from sklearn.ensemble import RandomForestRegressor\n",
    "from sklearn.tree import DecisionTreeRegressor\n",
    "from xgboost import XGBRegressor\n",
    "\n",
    "models = {\n",
    "    'Linear Regression': LinearRegression(),\n",
    "    'Random Forest': RandomForestRegressor(random_state=42),\n",
    "    'Decision Tree': DecisionTreeRegressor(random_state=42),\n",
    "    'XGBoost': XGBRegressor(random_state=42, verbosity=0)\n",
    "}\n",
    "\n",
    "results = {}\n",
    "\n",
    "for name, model in models.items():\n",
    "    model.fit(X_train_scaled, y_train)\n",
    "    y_pred = model.predict(X_test_scaled)\n",
    "    results[name] = {\n",
    "        'RMSE': np.sqrt(mean_squared_error(y_test, y_pred)),\n",
    "        'MAE': mean_absolute_error(y_test, y_pred),\n",
    "        'R2': r2_score(y_test, y_pred)\n",
    "    }\n",
    "\n",
    "results_df = pd.DataFrame(results).T\n",
    "results_df"
   ]
  },
  {
   "cell_type": "markdown",
   "id": "fb885e82-3e17-4b86-bb79-922c712efee5",
   "metadata": {},
   "source": [
    "## Visualize Model Performance\n",
    "\n",
    "Let's visualize the error metrics and R² scores for each model."
   ]
  },
  {
   "cell_type": "code",
   "execution_count": 6,
   "id": "a0cf63c2-1cf4-4fd0-a685-54160178736d",
   "metadata": {
    "scrolled": true
   },
   "outputs": [
    {
     "data": {
      "image/png": "[encoded data removed]",
      "text/plain": [
       "<Figure size 1000x600 with 1 Axes>"
      ]
     },
     "metadata": {},
     "output_type": "display_data"
    },
    {
     "data": {
      "image/png": "[encoded data removed]",
      "text/plain": [
       "<Figure size 1000x600 with 1 Axes>"
      ]
     },
     "metadata": {},
     "output_type": "display_data"
    }
   ],
   "source": [
    "results_df[['RMSE', 'MAE']].plot(kind='bar', figsize=(10,6))\n",
    "plt.title('Model Performance Comparison')\n",
    "plt.ylabel('Error')\n",
    "plt.xticks(rotation=0)\n",
    "plt.show()\n",
    "\n",
    "results_df['R2'].plot(kind='bar', figsize=(10,6), color='green')\n",
    "plt.title('R2 Score Comparison')\n",
    "plt.ylabel('R2 Score')\n",
    "plt.xticks(rotation=0)\n",
    "plt.show()"
   ]
  },
  {
   "cell_type": "markdown",
   "id": "bbcd0867-64ea-487d-aef6-6389edba4dd7",
   "metadata": {},
   "source": [
    "## Conclusion and Next Steps\n",
    "\n",
    "In this notebook, we compared several machine learning models for car price prediction, including:\n",
    "- Linear Regression (baseline)\n",
    "- Decision Tree\n",
    "- Random Forest\n",
    "- XGBoost\n",
    "\n",
    "**Key findings:**\n",
    "- Ensemble models (Random Forest, XGBoost) performed significantly better than simple linear and tree models.\n",
    "- Feature engineering and proper preprocessing had a strong impact on model performance."
   ]
  }
 ],
 "metadata": {
  "kernelspec": {
   "display_name": "Python 3 (ipykernel)",
   "language": "python",
   "name": "python3"
  },
  "language_info": {
   "codemirror_mode": {
    "name": "ipython",
    "version": 3
   },
   "file_extension": ".py",
   "mimetype": "text/x-python",
   "name": "python",
   "nbconvert_exporter": "python",
   "pygments_lexer": "ipython3",
   "version": "3.13.3"
  }
 },
 "nbformat": 4,
 "nbformat_minor": 5
}
